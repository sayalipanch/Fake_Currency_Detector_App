{
 "cells": [
  {
   "cell_type": "code",
   "execution_count": 22,
   "metadata": {},
   "outputs": [],
   "source": [
    "import cv2\n",
    "from keras.applications.resnet import ResNet50,preprocess_input\n",
    "from keras.preprocessing.image import ImageDataGenerator \n",
    "from keras.layers import Dense,Flatten,Dropout\n",
    "from keras.models import Model\n",
    "from keras import optimizers\n",
    "from keras.callbacks import ModelCheckpoint,EarlyStopping\n",
    "import numpy as np\n",
    "import matplotlib.pyplot as plt\n",
    "import warnings\n",
    "warnings.filterwarnings('ignore')\n"
   ]
  },
  {
   "cell_type": "code",
   "execution_count": 23,
   "metadata": {},
   "outputs": [],
   "source": [
    "def denoised_equalized(img):\n",
    "    grayimg = cv2.cvtColor(img, cv2.COLOR_BGR2GRAY)\n",
    "    equalized_image = cv2.equalizeHist(np.uint8(grayimg))\n",
    "    blurred = cv2.GaussianBlur(equalized_image, (1, 1), 0)\n",
    "    denoised = cv2.medianBlur(blurred, 1)\n",
    "    edges = cv2.Canny(denoised, 100, 200)\n",
    "    contours, _ = cv2.findContours(\n",
    "        edges, cv2.RETR_EXTERNAL, cv2.CHAIN_APPROX_SIMPLE)\n",
    "    mask = np.zeros_like(denoised)\n",
    "    cv2.drawContours(mask, contours, -1, (255), thickness=cv2.FILLED)\n",
    "    background_removed = cv2.bitwise_and(denoised, denoised, mask=mask)\n",
    "    background_removed_rgb = cv2.cvtColor(\n",
    "        background_removed, cv2.COLOR_BGR2RGB)\n",
    "    return background_removed_rgb\n"
   ]
  },
  {
   "cell_type": "code",
   "execution_count": 24,
   "metadata": {},
   "outputs": [],
   "source": [
    "height=300\n",
    "width=300\n",
    "base_model=ResNet50(weights='imagenet',include_top=False,input_shape=(height,width,3))"
   ]
  },
  {
   "cell_type": "code",
   "execution_count": 25,
   "metadata": {},
   "outputs": [
    {
     "name": "stdout",
     "output_type": "stream",
     "text": [
      "Found 35 images belonging to 2 classes.\n",
      "Found 7 images belonging to 2 classes.\n"
     ]
    }
   ],
   "source": [
    "train_dir=\"Dataset/Training\"\n",
    "validation_dir=\"Dataset/Validation\"\n",
    "\n",
    "batch_size=10\n",
    "\n",
    "train_datagen=ImageDataGenerator(preprocessing_function=preprocess_input,rotation_range=90,horizontal_flip=True,vertical_flip=True)\n",
    "train_generator=train_datagen.flow_from_directory(train_dir,target_size=(height,width),batch_size=batch_size)\n",
    "\n",
    "validation_datagen=ImageDataGenerator(preprocessing_function=preprocess_input,rotation_range=90,horizontal_flip=True,vertical_flip=True)\n",
    "validation_generator=validation_datagen.flow_from_directory(validation_dir,target_size=(height,width),batch_size=batch_size)"
   ]
  },
  {
   "cell_type": "code",
   "execution_count": 26,
   "metadata": {},
   "outputs": [],
   "source": [
    "def build_finetune_model(base_model,dropout,fc_layers,num_classes):\n",
    "    for layer in base_model.layers:\n",
    "        layer.trainable=False\n",
    "    x=base_model.output\n",
    "    x=Flatten()(x)\n",
    "    for fc in fc_layers:\n",
    "        x=Dense(fc,activation='relu')(x)\n",
    "        x=Dropout(dropout)(x)\n",
    "    predictions=Dense(num_classes,activation='softmax')(x)\n",
    "    finetune_model=Model(inputs=base_model.input,outputs=predictions) \n",
    "    return finetune_model"
   ]
  },
  {
   "cell_type": "code",
   "execution_count": 27,
   "metadata": {},
   "outputs": [],
   "source": [
    "class_list = ['Real', 'Fake']\n",
    "FC_Layers = [1024, 1024]\n",
    "dropout = 0.5\n",
    "num_epochs = 100\n",
    "num_train_images = 35\n",
    "metric = 'val_accuracy'\n"
   ]
  },
  {
   "cell_type": "code",
   "execution_count": 28,
   "metadata": {},
   "outputs": [],
   "source": [
    "finetune_model = build_finetune_model(\n",
    "    base_model, dropout=dropout, fc_layers=FC_Layers, num_classes=len(class_list))\n"
   ]
  },
  {
   "cell_type": "code",
   "execution_count": 29,
   "metadata": {},
   "outputs": [
    {
     "name": "stdout",
     "output_type": "stream",
     "text": [
      "WARNING:tensorflow:`period` argument is deprecated. Please use `save_freq` to specify the frequency in number of batches seen.\n",
      "Epoch 1/100\n",
      "3/3 [==============================] - ETA: 0s - loss: 2.2845 - accuracy: 0.2667\n",
      "Epoch 1: val_accuracy improved from -inf to 0.71429, saving model to Final_model.h5\n",
      "3/3 [==============================] - 31s 13s/step - loss: 2.2845 - accuracy: 0.2667 - val_loss: 0.7486 - val_accuracy: 0.7143\n",
      "Epoch 2/100\n",
      "3/3 [==============================] - ETA: 0s - loss: 1.3595 - accuracy: 0.6000\n",
      "Epoch 2: val_accuracy did not improve from 0.71429\n",
      "3/3 [==============================] - 4s 2s/step - loss: 1.3595 - accuracy: 0.6000 - val_loss: 1.1973 - val_accuracy: 0.4286\n",
      "Epoch 3/100\n",
      "3/3 [==============================] - ETA: 0s - loss: 1.0969 - accuracy: 0.6800\n",
      "Epoch 3: val_accuracy improved from 0.71429 to 0.85714, saving model to Final_model.h5\n",
      "3/3 [==============================] - 26s 12s/step - loss: 1.0969 - accuracy: 0.6800 - val_loss: 0.3654 - val_accuracy: 0.8571\n",
      "Epoch 4/100\n",
      "3/3 [==============================] - ETA: 0s - loss: 1.8925 - accuracy: 0.4000\n",
      "Epoch 4: val_accuracy did not improve from 0.85714\n",
      "3/3 [==============================] - 5s 2s/step - loss: 1.8925 - accuracy: 0.4000 - val_loss: 0.7902 - val_accuracy: 0.4286\n",
      "Epoch 5/100\n",
      "3/3 [==============================] - ETA: 0s - loss: 1.7583 - accuracy: 0.5200\n",
      "Epoch 5: val_accuracy did not improve from 0.85714\n",
      "3/3 [==============================] - 4s 2s/step - loss: 1.7583 - accuracy: 0.5200 - val_loss: 0.4962 - val_accuracy: 0.7143\n",
      "Epoch 6/100\n",
      "3/3 [==============================] - ETA: 0s - loss: 1.7166 - accuracy: 0.6000\n",
      "Epoch 6: val_accuracy did not improve from 0.85714\n",
      "3/3 [==============================] - 5s 2s/step - loss: 1.7166 - accuracy: 0.6000 - val_loss: 0.6371 - val_accuracy: 0.5714\n",
      "Epoch 7/100\n",
      "3/3 [==============================] - ETA: 0s - loss: 1.2792 - accuracy: 0.5600\n",
      "Epoch 7: val_accuracy did not improve from 0.85714\n",
      "3/3 [==============================] - 5s 2s/step - loss: 1.2792 - accuracy: 0.5600 - val_loss: 0.5758 - val_accuracy: 0.7143\n",
      "Epoch 8/100\n",
      "3/3 [==============================] - ETA: 0s - loss: 1.7164 - accuracy: 0.5200\n",
      "Epoch 8: val_accuracy did not improve from 0.85714\n",
      "3/3 [==============================] - 5s 2s/step - loss: 1.7164 - accuracy: 0.5200 - val_loss: 0.8597 - val_accuracy: 0.5714\n",
      "Epoch 9/100\n",
      "3/3 [==============================] - ETA: 0s - loss: 0.8758 - accuracy: 0.5600\n",
      "Epoch 9: val_accuracy did not improve from 0.85714\n",
      "3/3 [==============================] - 5s 2s/step - loss: 0.8758 - accuracy: 0.5600 - val_loss: 0.5714 - val_accuracy: 0.5714\n",
      "Epoch 10/100\n",
      "3/3 [==============================] - ETA: 0s - loss: 1.5924 - accuracy: 0.5600\n",
      "Epoch 10: val_accuracy did not improve from 0.85714\n",
      "3/3 [==============================] - 5s 2s/step - loss: 1.5924 - accuracy: 0.5600 - val_loss: 0.8240 - val_accuracy: 0.5714\n",
      "Epoch 11/100\n",
      "3/3 [==============================] - ETA: 0s - loss: 1.2916 - accuracy: 0.5200\n",
      "Epoch 11: val_accuracy did not improve from 0.85714\n",
      "3/3 [==============================] - 5s 2s/step - loss: 1.2916 - accuracy: 0.5200 - val_loss: 0.8229 - val_accuracy: 0.5714\n",
      "Epoch 12/100\n",
      "3/3 [==============================] - ETA: 0s - loss: 0.9405 - accuracy: 0.6400\n",
      "Epoch 12: val_accuracy did not improve from 0.85714\n",
      "3/3 [==============================] - 5s 2s/step - loss: 0.9405 - accuracy: 0.6400 - val_loss: 0.5669 - val_accuracy: 0.7143\n",
      "Epoch 13/100\n",
      "3/3 [==============================] - ETA: 0s - loss: 0.6758 - accuracy: 0.7600\n",
      "Epoch 13: val_accuracy did not improve from 0.85714\n",
      "3/3 [==============================] - 5s 2s/step - loss: 0.6758 - accuracy: 0.7600 - val_loss: 0.6018 - val_accuracy: 0.5714\n",
      "Epoch 14/100\n",
      "3/3 [==============================] - ETA: 0s - loss: 1.2040 - accuracy: 0.7200\n",
      "Epoch 14: val_accuracy did not improve from 0.85714\n",
      "3/3 [==============================] - 5s 2s/step - loss: 1.2040 - accuracy: 0.7200 - val_loss: 0.6657 - val_accuracy: 0.7143\n",
      "Epoch 15/100\n",
      "3/3 [==============================] - ETA: 0s - loss: 0.7031 - accuracy: 0.7200\n",
      "Epoch 15: val_accuracy did not improve from 0.85714\n",
      "3/3 [==============================] - 5s 2s/step - loss: 0.7031 - accuracy: 0.7200 - val_loss: 0.5927 - val_accuracy: 0.7143\n",
      "Epoch 16/100\n",
      "3/3 [==============================] - ETA: 0s - loss: 1.3432 - accuracy: 0.5333\n",
      "Epoch 16: val_accuracy did not improve from 0.85714\n",
      "3/3 [==============================] - 5s 2s/step - loss: 1.3432 - accuracy: 0.5333 - val_loss: 0.4114 - val_accuracy: 0.8571\n",
      "Epoch 17/100\n",
      "3/3 [==============================] - ETA: 0s - loss: 1.7118 - accuracy: 0.5667\n",
      "Epoch 17: val_accuracy did not improve from 0.85714\n",
      "3/3 [==============================] - 5s 2s/step - loss: 1.7118 - accuracy: 0.5667 - val_loss: 0.5440 - val_accuracy: 0.5714\n",
      "Epoch 18/100\n",
      "3/3 [==============================] - ETA: 0s - loss: 0.6851 - accuracy: 0.6800\n",
      "Epoch 18: val_accuracy did not improve from 0.85714\n",
      "3/3 [==============================] - 5s 2s/step - loss: 0.6851 - accuracy: 0.6800 - val_loss: 0.5270 - val_accuracy: 0.7143\n",
      "Epoch 19/100\n",
      "3/3 [==============================] - ETA: 0s - loss: 2.2231 - accuracy: 0.4000\n",
      "Epoch 19: val_accuracy did not improve from 0.85714\n",
      "3/3 [==============================] - 5s 2s/step - loss: 2.2231 - accuracy: 0.4000 - val_loss: 0.5445 - val_accuracy: 0.7143\n",
      "Epoch 20/100\n",
      "3/3 [==============================] - ETA: 0s - loss: 1.6120 - accuracy: 0.4400\n",
      "Epoch 20: val_accuracy did not improve from 0.85714\n",
      "3/3 [==============================] - 5s 2s/step - loss: 1.6120 - accuracy: 0.4400 - val_loss: 0.4975 - val_accuracy: 0.5714\n",
      "Epoch 21/100\n",
      "3/3 [==============================] - ETA: 0s - loss: 1.7554 - accuracy: 0.6400\n",
      "Epoch 21: val_accuracy improved from 0.85714 to 1.00000, saving model to Final_model.h5\n",
      "3/3 [==============================] - 28s 13s/step - loss: 1.7554 - accuracy: 0.6400 - val_loss: 0.2120 - val_accuracy: 1.0000\n",
      "Epoch 22/100\n",
      "3/3 [==============================] - ETA: 0s - loss: 1.1848 - accuracy: 0.5667\n",
      "Epoch 22: val_accuracy did not improve from 1.00000\n",
      "3/3 [==============================] - 5s 2s/step - loss: 1.1848 - accuracy: 0.5667 - val_loss: 0.4301 - val_accuracy: 1.0000\n",
      "Epoch 23/100\n",
      "3/3 [==============================] - ETA: 0s - loss: 1.6556 - accuracy: 0.4400\n",
      "Epoch 23: val_accuracy did not improve from 1.00000\n",
      "3/3 [==============================] - 5s 2s/step - loss: 1.6556 - accuracy: 0.4400 - val_loss: 0.1836 - val_accuracy: 1.0000\n",
      "Epoch 24/100\n",
      "3/3 [==============================] - ETA: 0s - loss: 1.1848 - accuracy: 0.4400\n",
      "Epoch 24: val_accuracy did not improve from 1.00000\n",
      "3/3 [==============================] - 5s 2s/step - loss: 1.1848 - accuracy: 0.4400 - val_loss: 0.3779 - val_accuracy: 0.8571\n",
      "Epoch 25/100\n",
      "3/3 [==============================] - ETA: 0s - loss: 0.7422 - accuracy: 0.7000\n",
      "Epoch 25: val_accuracy did not improve from 1.00000\n",
      "3/3 [==============================] - 5s 2s/step - loss: 0.7422 - accuracy: 0.7000 - val_loss: 0.7091 - val_accuracy: 0.7143\n",
      "Epoch 26/100\n",
      "3/3 [==============================] - ETA: 0s - loss: 1.0858 - accuracy: 0.5667\n",
      "Epoch 26: val_accuracy did not improve from 1.00000\n",
      "3/3 [==============================] - 5s 2s/step - loss: 1.0858 - accuracy: 0.5667 - val_loss: 0.4123 - val_accuracy: 0.7143\n",
      "Epoch 27/100\n",
      "3/3 [==============================] - ETA: 0s - loss: 1.4097 - accuracy: 0.5600\n",
      "Epoch 27: val_accuracy did not improve from 1.00000\n",
      "3/3 [==============================] - 5s 2s/step - loss: 1.4097 - accuracy: 0.5600 - val_loss: 0.3382 - val_accuracy: 0.8571\n",
      "Epoch 28/100\n",
      "3/3 [==============================] - ETA: 0s - loss: 0.9082 - accuracy: 0.7000\n",
      "Epoch 28: val_accuracy did not improve from 1.00000\n",
      "3/3 [==============================] - 5s 2s/step - loss: 0.9082 - accuracy: 0.7000 - val_loss: 0.2859 - val_accuracy: 0.8571\n",
      "Epoch 29/100\n",
      "3/3 [==============================] - ETA: 0s - loss: 1.6072 - accuracy: 0.6333\n",
      "Epoch 29: val_accuracy did not improve from 1.00000\n",
      "3/3 [==============================] - 5s 2s/step - loss: 1.6072 - accuracy: 0.6333 - val_loss: 1.0341 - val_accuracy: 0.5714\n",
      "Epoch 30/100\n",
      "3/3 [==============================] - ETA: 0s - loss: 1.9635 - accuracy: 0.4667\n",
      "Epoch 30: val_accuracy did not improve from 1.00000\n",
      "3/3 [==============================] - 5s 2s/step - loss: 1.9635 - accuracy: 0.4667 - val_loss: 0.4742 - val_accuracy: 0.7143\n",
      "Epoch 31/100\n",
      "3/3 [==============================] - ETA: 0s - loss: 1.0213 - accuracy: 0.6000\n",
      "Epoch 31: val_accuracy did not improve from 1.00000\n",
      "3/3 [==============================] - 5s 2s/step - loss: 1.0213 - accuracy: 0.6000 - val_loss: 0.7157 - val_accuracy: 0.7143\n",
      "Epoch 32/100\n",
      "3/3 [==============================] - ETA: 0s - loss: 1.2221 - accuracy: 0.6400\n",
      "Epoch 32: val_accuracy did not improve from 1.00000\n",
      "3/3 [==============================] - 5s 2s/step - loss: 1.2221 - accuracy: 0.6400 - val_loss: 0.4201 - val_accuracy: 0.8571\n",
      "Epoch 33/100\n",
      "3/3 [==============================] - ETA: 0s - loss: 0.6377 - accuracy: 0.7333\n",
      "Epoch 33: val_accuracy did not improve from 1.00000\n",
      "3/3 [==============================] - 5s 2s/step - loss: 0.6377 - accuracy: 0.7333 - val_loss: 0.5073 - val_accuracy: 0.7143\n",
      "Epoch 34/100\n",
      "3/3 [==============================] - ETA: 0s - loss: 0.8830 - accuracy: 0.7200\n",
      "Epoch 34: val_accuracy did not improve from 1.00000\n",
      "3/3 [==============================] - 5s 2s/step - loss: 0.8830 - accuracy: 0.7200 - val_loss: 0.7931 - val_accuracy: 0.5714\n",
      "Epoch 35/100\n",
      "3/3 [==============================] - ETA: 0s - loss: 1.1322 - accuracy: 0.6800\n",
      "Epoch 35: val_accuracy did not improve from 1.00000\n",
      "3/3 [==============================] - 5s 2s/step - loss: 1.1322 - accuracy: 0.6800 - val_loss: 0.3377 - val_accuracy: 0.8571\n",
      "Epoch 36/100\n",
      "3/3 [==============================] - ETA: 0s - loss: 1.1890 - accuracy: 0.5600\n",
      "Epoch 36: val_accuracy did not improve from 1.00000\n",
      "3/3 [==============================] - 5s 2s/step - loss: 1.1890 - accuracy: 0.5600 - val_loss: 0.5863 - val_accuracy: 0.5714\n",
      "Epoch 37/100\n",
      "3/3 [==============================] - ETA: 0s - loss: 1.4227 - accuracy: 0.5333\n",
      "Epoch 37: val_accuracy did not improve from 1.00000\n",
      "3/3 [==============================] - 5s 2s/step - loss: 1.4227 - accuracy: 0.5333 - val_loss: 0.6166 - val_accuracy: 0.7143\n",
      "Epoch 38/100\n",
      "3/3 [==============================] - ETA: 0s - loss: 1.2607 - accuracy: 0.6800\n",
      "Epoch 38: val_accuracy did not improve from 1.00000\n",
      "3/3 [==============================] - 5s 2s/step - loss: 1.2607 - accuracy: 0.6800 - val_loss: 0.1559 - val_accuracy: 1.0000\n",
      "Epoch 39/100\n",
      "3/3 [==============================] - ETA: 0s - loss: 1.0271 - accuracy: 0.6800\n",
      "Epoch 39: val_accuracy did not improve from 1.00000\n",
      "3/3 [==============================] - 5s 2s/step - loss: 1.0271 - accuracy: 0.6800 - val_loss: 0.2096 - val_accuracy: 1.0000\n",
      "Epoch 40/100\n",
      "3/3 [==============================] - ETA: 0s - loss: 0.6514 - accuracy: 0.8000\n",
      "Epoch 40: val_accuracy did not improve from 1.00000\n",
      "3/3 [==============================] - 5s 2s/step - loss: 0.6514 - accuracy: 0.8000 - val_loss: 0.4533 - val_accuracy: 0.7143\n",
      "Epoch 41/100\n",
      "3/3 [==============================] - ETA: 0s - loss: 1.0635 - accuracy: 0.7600\n",
      "Epoch 41: val_accuracy did not improve from 1.00000\n",
      "3/3 [==============================] - 5s 2s/step - loss: 1.0635 - accuracy: 0.7600 - val_loss: 0.6967 - val_accuracy: 0.5714\n",
      "Epoch 42/100\n",
      "3/3 [==============================] - ETA: 0s - loss: 1.3188 - accuracy: 0.6400\n",
      "Epoch 42: val_accuracy did not improve from 1.00000\n",
      "3/3 [==============================] - 5s 2s/step - loss: 1.3188 - accuracy: 0.6400 - val_loss: 0.3488 - val_accuracy: 0.8571\n",
      "Epoch 43/100\n",
      "3/3 [==============================] - ETA: 0s - loss: 0.7163 - accuracy: 0.7600\n",
      "Epoch 43: val_accuracy did not improve from 1.00000\n",
      "3/3 [==============================] - 5s 2s/step - loss: 0.7163 - accuracy: 0.7600 - val_loss: 0.4027 - val_accuracy: 0.5714\n",
      "Epoch 44/100\n",
      "3/3 [==============================] - ETA: 0s - loss: 0.5729 - accuracy: 0.7600\n",
      "Epoch 44: val_accuracy did not improve from 1.00000\n",
      "3/3 [==============================] - 5s 2s/step - loss: 0.5729 - accuracy: 0.7600 - val_loss: 0.4290 - val_accuracy: 0.8571\n",
      "Epoch 45/100\n",
      "3/3 [==============================] - ETA: 0s - loss: 1.2210 - accuracy: 0.4800\n",
      "Epoch 45: val_accuracy did not improve from 1.00000\n",
      "3/3 [==============================] - 5s 2s/step - loss: 1.2210 - accuracy: 0.4800 - val_loss: 0.5240 - val_accuracy: 0.7143\n",
      "Epoch 46/100\n",
      "3/3 [==============================] - ETA: 0s - loss: 1.1925 - accuracy: 0.5600\n",
      "Epoch 46: val_accuracy did not improve from 1.00000\n",
      "3/3 [==============================] - 5s 2s/step - loss: 1.1925 - accuracy: 0.5600 - val_loss: 0.1852 - val_accuracy: 1.0000\n",
      "Epoch 47/100\n",
      "3/3 [==============================] - ETA: 0s - loss: 0.7990 - accuracy: 0.8000\n",
      "Epoch 47: val_accuracy did not improve from 1.00000\n",
      "3/3 [==============================] - 5s 2s/step - loss: 0.7990 - accuracy: 0.8000 - val_loss: 0.9798 - val_accuracy: 0.5714\n",
      "Epoch 48/100\n",
      "3/3 [==============================] - ETA: 0s - loss: 1.1367 - accuracy: 0.6000\n",
      "Epoch 48: val_accuracy did not improve from 1.00000\n",
      "3/3 [==============================] - 5s 2s/step - loss: 1.1367 - accuracy: 0.6000 - val_loss: 0.2329 - val_accuracy: 1.0000\n",
      "Epoch 49/100\n",
      "3/3 [==============================] - ETA: 0s - loss: 1.0345 - accuracy: 0.6800\n",
      "Epoch 49: val_accuracy did not improve from 1.00000\n",
      "3/3 [==============================] - 5s 2s/step - loss: 1.0345 - accuracy: 0.6800 - val_loss: 0.2738 - val_accuracy: 0.8571\n",
      "Epoch 50/100\n",
      "3/3 [==============================] - ETA: 0s - loss: 1.2119 - accuracy: 0.6333\n",
      "Epoch 50: val_accuracy did not improve from 1.00000\n",
      "3/3 [==============================] - 5s 2s/step - loss: 1.2119 - accuracy: 0.6333 - val_loss: 0.8655 - val_accuracy: 0.5714\n",
      "Epoch 51/100\n",
      "3/3 [==============================] - ETA: 0s - loss: 0.7067 - accuracy: 0.7667\n",
      "Epoch 51: val_accuracy did not improve from 1.00000\n",
      "3/3 [==============================] - 5s 2s/step - loss: 0.7067 - accuracy: 0.7667 - val_loss: 0.1930 - val_accuracy: 0.8571\n",
      "Epoch 52/100\n",
      "3/3 [==============================] - ETA: 0s - loss: 0.9516 - accuracy: 0.7200\n",
      "Epoch 52: val_accuracy did not improve from 1.00000\n",
      "3/3 [==============================] - 5s 2s/step - loss: 0.9516 - accuracy: 0.7200 - val_loss: 0.4263 - val_accuracy: 0.8571\n",
      "Epoch 53/100\n",
      "3/3 [==============================] - ETA: 0s - loss: 1.1125 - accuracy: 0.6000\n",
      "Epoch 53: val_accuracy did not improve from 1.00000\n",
      "3/3 [==============================] - 5s 2s/step - loss: 1.1125 - accuracy: 0.6000 - val_loss: 0.6537 - val_accuracy: 0.8571\n",
      "Epoch 54/100\n",
      "3/3 [==============================] - ETA: 0s - loss: 1.6782 - accuracy: 0.5200\n",
      "Epoch 54: val_accuracy did not improve from 1.00000\n",
      "3/3 [==============================] - 5s 2s/step - loss: 1.6782 - accuracy: 0.5200 - val_loss: 0.1773 - val_accuracy: 1.0000\n",
      "Epoch 55/100\n",
      "3/3 [==============================] - ETA: 0s - loss: 1.0290 - accuracy: 0.6000\n",
      "Epoch 55: val_accuracy did not improve from 1.00000\n",
      "3/3 [==============================] - 5s 2s/step - loss: 1.0290 - accuracy: 0.6000 - val_loss: 0.2476 - val_accuracy: 0.8571\n",
      "Epoch 56/100\n",
      "3/3 [==============================] - ETA: 0s - loss: 1.1005 - accuracy: 0.6000\n",
      "Epoch 56: val_accuracy did not improve from 1.00000\n",
      "3/3 [==============================] - 5s 2s/step - loss: 1.1005 - accuracy: 0.6000 - val_loss: 0.2623 - val_accuracy: 1.0000\n",
      "Epoch 57/100\n",
      "3/3 [==============================] - ETA: 0s - loss: 0.6943 - accuracy: 0.6800\n",
      "Epoch 57: val_accuracy did not improve from 1.00000\n",
      "3/3 [==============================] - 5s 2s/step - loss: 0.6943 - accuracy: 0.6800 - val_loss: 0.2501 - val_accuracy: 0.8571\n",
      "Epoch 58/100\n",
      "3/3 [==============================] - ETA: 0s - loss: 0.7501 - accuracy: 0.6400\n",
      "Epoch 58: val_accuracy did not improve from 1.00000\n",
      "3/3 [==============================] - 5s 2s/step - loss: 0.7501 - accuracy: 0.6400 - val_loss: 0.3780 - val_accuracy: 0.7143\n",
      "Epoch 59/100\n",
      "3/3 [==============================] - ETA: 0s - loss: 1.2286 - accuracy: 0.6000\n",
      "Epoch 59: val_accuracy did not improve from 1.00000\n",
      "3/3 [==============================] - 5s 2s/step - loss: 1.2286 - accuracy: 0.6000 - val_loss: 0.3348 - val_accuracy: 0.8571\n",
      "Epoch 60/100\n",
      "3/3 [==============================] - ETA: 0s - loss: 0.5589 - accuracy: 0.8000\n",
      "Epoch 60: val_accuracy did not improve from 1.00000\n",
      "3/3 [==============================] - 5s 2s/step - loss: 0.5589 - accuracy: 0.8000 - val_loss: 0.3912 - val_accuracy: 0.8571\n",
      "Epoch 61/100\n",
      "3/3 [==============================] - ETA: 0s - loss: 0.5236 - accuracy: 0.7600\n",
      "Epoch 61: val_accuracy did not improve from 1.00000\n",
      "3/3 [==============================] - 5s 2s/step - loss: 0.5236 - accuracy: 0.7600 - val_loss: 0.4605 - val_accuracy: 0.8571\n",
      "Epoch 61: early stopping\n"
     ]
    }
   ],
   "source": [
    "checkpoint = ModelCheckpoint(\"Final_model.h5\", monitor=metric, verbose=1,save_best_only=True, save_weights_only=False, mode='auto', period=1)\n",
    "early = EarlyStopping(monitor=metric, min_delta=0,patience=40, verbose=1, mode=\"auto\")\n",
    "callbacks = [checkpoint, early]\n",
    "finetune_model.compile(loss=\"categorical_crossentropy\",optimizer=optimizers.Adam(lr=0.000001),metrics=['accuracy'])\n",
    "finetune_model.fit_generator(generator=train_generator,steps_per_epoch=num_train_images//batch_size,epochs=num_epochs,validation_data=validation_generator,validation_steps=1,callbacks=callbacks)\n",
    "finetune_model.save(\"Final_model.h5\")\n"
   ]
  },
  {
   "cell_type": "code",
   "execution_count": 30,
   "metadata": {},
   "outputs": [],
   "source": [
    "def equalize_image(image):\n",
    "    gray = cv2.cvtColor(image, cv2.COLOR_BGR2GRAY)\n",
    "    equalized = cv2.equalizeHist(gray)\n",
    "    equalized = equalized[:, :, np.newaxis]\n",
    "    return equalized\n"
   ]
  },
  {
   "cell_type": "code",
   "execution_count": 40,
   "metadata": {},
   "outputs": [
    {
     "name": "stdout",
     "output_type": "stream",
     "text": [
      "1/1 [==============================] - 1s 1s/step\n",
      "[[0.07736683 0.9226331 ]]\n",
      "Real\n"
     ]
    }
   ],
   "source": [
    "from keras.utils import load_img\n",
    "from keras.models import load_model\n",
    "\n",
    "\n",
    "img=load_img(\"Dataset/Testing/Real.jpg\",target_size=(300,300)) \n",
    "img=np.expand_dims(img,axis=0)\n",
    "reconstructed_model = load_model(\"Final_model.h5\")\n",
    "output=reconstructed_model.predict(img) \n",
    "print(output)\n",
    "if(output[0][0]>output[0][1]): print(\"Fake\")\n",
    "else:print(\"Real\")\n"
   ]
  },
  {
   "cell_type": "code",
   "execution_count": 65,
   "metadata": {},
   "outputs": [],
   "source": [
    "from PIL import ImageOps, ImageFilter\n"
   ]
  },
  {
   "attachments": {},
   "cell_type": "markdown",
   "metadata": {},
   "source": [
    "## Non Equalized Image"
   ]
  },
  {
   "cell_type": "code",
   "execution_count": 73,
   "metadata": {},
   "outputs": [
    {
     "name": "stdout",
     "output_type": "stream",
     "text": [
      "1/1 [==============================] - 0s 212ms/step\n",
      "[[0.45023856 0.5497614 ]]\n",
      "Real\n"
     ]
    }
   ],
   "source": [
    "img = load_img(\"500-picture-cms.jpg\", target_size=(300, 300))\n",
    "img = np.expand_dims(img, axis=0)\n",
    "output = reconstructed_model.predict(img)\n",
    "print(output)\n",
    "if(output[0][0] > output[0][1]):\n",
    "    print(\"Fake\")\n",
    "else:\n",
    "    print(\"Real\")\n"
   ]
  },
  {
   "attachments": {},
   "cell_type": "markdown",
   "metadata": {},
   "source": [
    "## Equalized Image"
   ]
  },
  {
   "cell_type": "code",
   "execution_count": 74,
   "metadata": {},
   "outputs": [
    {
     "name": "stdout",
     "output_type": "stream",
     "text": [
      "1/1 [==============================] - 0s 183ms/step\n",
      "[[0.17750023 0.8224998 ]]\n",
      "Real\n"
     ]
    }
   ],
   "source": [
    "img = load_img(\"500-picture-cms.jpg\", target_size=(300, 300))\n",
    "img = ImageOps.equalize(img)\n",
    "img = np.expand_dims(img, axis=0)\n",
    "output = reconstructed_model.predict(img)\n",
    "print(output)\n",
    "if(output[0][0] > output[0][1]):\n",
    "    print(\"Fake\")\n",
    "else:\n",
    "    print(\"Real\")\n"
   ]
  },
  {
   "attachments": {},
   "cell_type": "markdown",
   "metadata": {},
   "source": [
    "## Median Blurred + Equalized"
   ]
  },
  {
   "cell_type": "code",
   "execution_count": 75,
   "metadata": {},
   "outputs": [
    {
     "name": "stdout",
     "output_type": "stream",
     "text": [
      "1/1 [==============================] - 0s 188ms/step\n",
      "[[0.04372657 0.9562734 ]]\n",
      "Real\n"
     ]
    }
   ],
   "source": [
    "img = load_img(\"500-picture-cms.jpg\", target_size=(300, 300))\n",
    "img = ImageOps.equalize(img)\n",
    "img = img.filter(ImageFilter.MedianFilter(size=3))\n",
    "img = np.expand_dims(img, axis=0)\n",
    "output = reconstructed_model.predict(img)\n",
    "print(output)\n",
    "if(output[0][0] > output[0][1]):\n",
    "    print(\"Fake\")\n",
    "else:\n",
    "    print(\"Real\")\n"
   ]
  },
  {
   "attachments": {},
   "cell_type": "markdown",
   "metadata": {},
   "source": [
    "# Teachable Machine Model"
   ]
  },
  {
   "cell_type": "code",
   "execution_count": 2,
   "metadata": {},
   "outputs": [
    {
     "name": "stdout",
     "output_type": "stream",
     "text": [
      "1/1 [==============================] - 1s 603ms/step\n",
      "Class: Fake\n",
      "Confidence Score: 0.6154035\n"
     ]
    }
   ],
   "source": [
    "from keras.models import load_model  \n",
    "from PIL import Image, ImageOps \n",
    "import numpy as np\n",
    "\n",
    "# Disable scientific notation for clarity\n",
    "np.set_printoptions(suppress=True)\n",
    "model = load_model(\"keras_model.h5\", compile=False)\n",
    "class_names = open(\"labels.txt\", \"r\").readlines()\n",
    "\n",
    "data = np.ndarray(shape=(1, 224, 224, 3), dtype=np.float32)\n",
    "\n",
    "# Replace this with the path to your image\n",
    "image = Image.open(\"g-1-380x214.jpg\").convert(\"RGB\")\n",
    "# image = ImageOps.equalize(image)\n",
    "# resizing the image to be at least 224x224 and then cropping from the center\n",
    "size = (224, 224)\n",
    "image = ImageOps.fit(image, size, Image.Resampling.LANCZOS)\n",
    "\n",
    "# turn the image into a numpy array\n",
    "image_array = np.asarray(image)\n",
    "\n",
    "# Normalize the image\n",
    "normalized_image_array = (image_array.astype(np.float32) / 127.5) - 1\n",
    "\n",
    "# Load the image into the array\n",
    "data[0] = normalized_image_array\n",
    "\n",
    "# Predicts the model\n",
    "prediction = model.predict(data)\n",
    "index = np.argmax(prediction)\n",
    "class_name = class_names[index]\n",
    "confidence_score = prediction[0][index]\n",
    "\n",
    "# Print prediction and confidence score\n",
    "print(\"Class:\", class_name[2:], end=\"\")\n",
    "print(\"Confidence Score:\", confidence_score)\n"
   ]
  }
 ],
 "metadata": {
  "kernelspec": {
   "display_name": "Python 3",
   "language": "python",
   "name": "python3"
  },
  "language_info": {
   "codemirror_mode": {
    "name": "ipython",
    "version": 3
   },
   "file_extension": ".py",
   "mimetype": "text/x-python",
   "name": "python",
   "nbconvert_exporter": "python",
   "pygments_lexer": "ipython3",
   "version": "3.9.9"
  },
  "orig_nbformat": 2
 },
 "nbformat": 4,
 "nbformat_minor": 2
}
